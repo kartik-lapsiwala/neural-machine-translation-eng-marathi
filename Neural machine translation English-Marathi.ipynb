{
 "cells": [
  {
   "cell_type": "code",
   "execution_count": 1,
   "metadata": {},
   "outputs": [
    {
     "name": "stdout",
     "output_type": "stream",
     "text": [
      "tensorflow version:  2.0.0\n"
     ]
    }
   ],
   "source": [
    "import os, sys\n",
    "import tensorflow as tf\n",
    "from tensorflow.keras.models import Model\n",
    "from tensorflow.keras.layers import Input, LSTM, GRU, Dense, Embedding\n",
    "from tensorflow.keras.preprocessing.text import Tokenizer\n",
    "from tensorflow.keras.preprocessing.sequence import pad_sequences\n",
    "from tensorflow.keras.utils import to_categorical\n",
    "import numpy as np\n",
    "import matplotlib.pyplot as plt\n",
    "print('tensorflow version: ',tf.__version__)"
   ]
  },
  {
   "cell_type": "code",
   "execution_count": 2,
   "metadata": {},
   "outputs": [],
   "source": [
    "BATCH_SIZE = 64\n",
    "EPOCHS = 20\n",
    "LSTM_NODES =256\n",
    "NUM_SENTENCES = 20000\n",
    "MAX_SENTENCE_LENGTH = 50\n",
    "MAX_NUM_WORDS = 20000\n",
    "EMBEDDING_SIZE = 100"
   ]
  },
  {
   "cell_type": "markdown",
   "metadata": {},
   "source": [
    "### Data processing"
   ]
  },
  {
   "cell_type": "markdown",
   "metadata": {},
   "source": [
    "<a href link='http://www.manythings.org/anki/'>dataset</a>"
   ]
  },
  {
   "cell_type": "code",
   "execution_count": 3,
   "metadata": {},
   "outputs": [
    {
     "name": "stdout",
     "output_type": "stream",
     "text": [
      "['Go.\\tजा.\\tCC-BY 2.0 (France) Attribution: tatoeba.org #2877272 (CM) & #3138228 (sabretou)\\n', 'Run!\\tपळ!\\tCC-BY 2.0 (France) Attribution: tatoeba.org #906328 (papabear) & #3138217 (sabretou)\\n']\n"
     ]
    }
   ],
   "source": [
    "with open(r'/Users/user/Desktop/python_stuff/NLP/mar-eng/mar.txt', encoding=\"utf-8\") as file:\n",
    "    head = [next(file) for x in range(2)]\n",
    "print(head)"
   ]
  },
  {
   "cell_type": "code",
   "execution_count": 7,
   "metadata": {},
   "outputs": [
    {
     "name": "stdout",
     "output_type": "stream",
     "text": [
      "num samples input: 20000\n",
      "num samples output: 20000\n",
      "num samples output input: 20000\n"
     ]
    }
   ],
   "source": [
    "# We limit the sentences to 2500.\n",
    "# File has English sentence its corrosponding Hindi sentence and its attribute.\n",
    "# We need to split them by '\\t' and create a list of English sentences, its corrosponding Hindi sentences with\n",
    "# end of sentence <eos> postfix and a third list of same Hindi sentences with start of sentence <sos> prefix\n",
    "\n",
    "input_sentences = []\n",
    "output_sentences = []\n",
    "output_sentences_inputs = []\n",
    "\n",
    "count = 0\n",
    "for line in open(r'/Users/user/Desktop/python_stuff/NLP/mar-eng/mar.txt', encoding=\"utf-8\"):\n",
    "    count += 1\n",
    "\n",
    "    if count > NUM_SENTENCES:\n",
    "        break\n",
    "\n",
    "    if '\\t' not in line:\n",
    "        continue\n",
    "\n",
    "    input_sentence, output, attribute = line.rstrip().split('\\t')\n",
    "\n",
    "    output_sentence = output + ' <eos>'\n",
    "    output_sentence_input = '<sos> ' + output\n",
    "\n",
    "    input_sentences.append(input_sentence)\n",
    "    output_sentences.append(output_sentence)\n",
    "    output_sentences_inputs.append(output_sentence_input)\n",
    "\n",
    "print(\"num samples input:\", len(input_sentences))\n",
    "print(\"num samples output:\", len(output_sentences))\n",
    "print(\"num samples output input:\", len(output_sentences_inputs))"
   ]
  },
  {
   "cell_type": "code",
   "execution_count": 8,
   "metadata": {},
   "outputs": [
    {
     "name": "stdout",
     "output_type": "stream",
     "text": [
      "Input sentence:  Don't ask.\n",
      "Output sentence:  विचारू नका. <eos>\n",
      "Output sentence as input:  <sos> विचारू नका.\n"
     ]
    }
   ],
   "source": [
    "print('Input sentence: ',input_sentences[250])\n",
    "print('Output sentence: ',output_sentences[250])\n",
    "print('Output sentence as input: ',output_sentences_inputs[250])"
   ]
  },
  {
   "cell_type": "markdown",
   "metadata": {},
   "source": [
    "### Tokenization"
   ]
  },
  {
   "cell_type": "code",
   "execution_count": 10,
   "metadata": {},
   "outputs": [
    {
     "name": "stdout",
     "output_type": "stream",
     "text": [
      "Longest sentence has 8 words\n",
      "Total unique words:  3052\n"
     ]
    }
   ],
   "source": [
    "# Tokenize the input sentences(English Language)\n",
    "\n",
    "input_tokenizer = Tokenizer(num_words=MAX_NUM_WORDS)\n",
    "input_tokenizer.fit_on_texts(input_sentences)\n",
    "input_integer_seq = input_tokenizer.texts_to_sequences(input_sentences)\n",
    "\n",
    "input_word_index = input_tokenizer.word_index\n",
    "print('Longest sentence has {} words'.format(max_input_len))\n",
    "\n",
    "max_input_len = max(len(x) for x in input_integer_seq)\n",
    "print('Total unique words: ',len(input_word_index))"
   ]
  },
  {
   "cell_type": "code",
   "execution_count": 25,
   "metadata": {},
   "outputs": [
    {
     "name": "stdout",
     "output_type": "stream",
     "text": [
      "Total unique words are:  7422\n",
      "Length of longest sentence in the output: 10\n"
     ]
    }
   ],
   "source": [
    "# Tokenize the output sentences(Hindi Language)\n",
    "\n",
    "output_tokenizer = Tokenizer(num_words=MAX_NUM_WORDS, filters='')\n",
    "output_tokenizer.fit_on_texts(output_sentences + output_sentences_inputs)\n",
    "output_integer_seq = output_tokenizer.texts_to_sequences(output_sentences)\n",
    "output_input_integer_seq = output_tokenizer.texts_to_sequences(output_sentences_inputs)\n",
    "\n",
    "output_word_index = output_tokenizer.word_index\n",
    "print('Total unique words are: ', len(output_word_index))\n",
    "\n",
    "num_words_output = len(output_word_index) + 1\n",
    "max_out_len = max(len(x) for x in output_integer_seq)\n",
    "print(\"Length of longest sentence in the output: %g\" % max_out_len)"
   ]
  },
  {
   "cell_type": "markdown",
   "metadata": {},
   "source": [
    "###  Padding"
   ]
  },
  {
   "cell_type": "markdown",
   "metadata": {},
   "source": [
    "<p>We need to pad our inputs and outputs because each inputs and outputs are of different length \n",
    "<p>LSTM model expects all the inputs to be of the same size."
   ]
  },
  {
   "cell_type": "code",
   "execution_count": 26,
   "metadata": {},
   "outputs": [
    {
     "name": "stdout",
     "output_type": "stream",
     "text": [
      "padded input sequence shape:  (20000, 8)\n",
      "padded input sequence example 250:  [  0   0   0   0   0   0  20 214]\n"
     ]
    }
   ],
   "source": [
    "# Input padding\n",
    "\n",
    "encoder_input_sequences = pad_sequences(input_integer_seq, maxlen=max_input_len)\n",
    "print('padded input sequence shape: ',encoder_input_sequences.shape)\n",
    "print('padded input sequence example 250: ', encoder_input_sequences[250])\n"
   ]
  },
  {
   "cell_type": "code",
   "execution_count": 27,
   "metadata": {},
   "outputs": [
    {
     "name": "stdout",
     "output_type": "stream",
     "text": [
      "padded output sequence shape:  (20000, 10)\n",
      "padded output sequence example 250:  [  2 797  62   0   0   0   0   0   0   0]\n"
     ]
    }
   ],
   "source": [
    "# Output padding\n",
    "\n",
    "decoder_input_sequences = pad_sequences(output_input_integer_seq, maxlen=max_out_len, padding='post')\n",
    "print('padded output sequence shape: ', decoder_input_sequences.shape)\n",
    "print('padded output sequence example 250: ', decoder_input_sequences[250])"
   ]
  },
  {
   "cell_type": "code",
   "execution_count": 28,
   "metadata": {},
   "outputs": [
    {
     "name": "stdout",
     "output_type": "stream",
     "text": [
      "(20000, 10)\n"
     ]
    },
    {
     "data": {
      "text/plain": [
       "array([797,  62,   1,   0,   0,   0,   0,   0,   0,   0], dtype=int32)"
      ]
     },
     "execution_count": 28,
     "metadata": {},
     "output_type": "execute_result"
    }
   ],
   "source": [
    "decoder_output_sequences = pad_sequences(output_integer_seq, maxlen=max_out_len, padding='post')\n",
    "print(decoder_output_sequences.shape)\n",
    "decoder_output_sequences[250]"
   ]
  },
  {
   "cell_type": "code",
   "execution_count": null,
   "metadata": {},
   "outputs": [],
   "source": [
    "\"\"\"\n",
    "In the encoder, zeros were padded at the beginning. \n",
    "The reason behind this is that encoder output is based on the words occurring at the end of the sentence, \n",
    "therefore the original words were kept at the end of the sentence and zeros were padded at the beginning. \n",
    "In the case of the decoder, the post-padding is applied,\n",
    "which means that zeros are appended at the end of the sentence. \n",
    "We do this because in the decoder the processing starts from the beginning of a sentence, \n",
    "hence post-padding is performed in the decoder.\n",
    "\"\"\""
   ]
  },
  {
   "cell_type": "markdown",
   "metadata": {},
   "source": [
    "### Word Embeddings"
   ]
  },
  {
   "cell_type": "markdown",
   "metadata": {},
   "source": [
    "<p>For the English sentences, i.e. the inputs, we will use the GloVe word embeddings. For the translated Hindi sentences in the output, we will use custom word embeddings."
   ]
  },
  {
   "cell_type": "code",
   "execution_count": 29,
   "metadata": {},
   "outputs": [],
   "source": [
    "# reate a dictionary where words are the keys and the corresponding vectors are values\n",
    "\n",
    "import numpy as np\n",
    "\n",
    "embeddings_dictionary = dict()\n",
    "glove_file = open(r\"/Users/user/Desktop/python_stuff/NLP/glove.6B/glove.6B.100d.txt\", encoding='utf8')\n",
    "\n",
    "for line in glove_file:\n",
    "    records = line.split()\n",
    "    word = records[0]\n",
    "    vector_dimensions = np.asarray(records[1:], dtype='float32')\n",
    "    embeddings_dictionary[word] = vector_dimensions\n",
    "glove_file.close()"
   ]
  },
  {
   "cell_type": "code",
   "execution_count": 30,
   "metadata": {},
   "outputs": [],
   "source": [
    "num_words = min(MAX_NUM_WORDS, len(input_word_index)+1)\n",
    "embedding_matrix = np.zeros((num_words, EMBEDDING_SIZE))\n",
    "for word, index in input_word_index.items():\n",
    "    embedding_vector = embeddings_dictionary.get(word)\n",
    "    if embedding_vector is not None:\n",
    "        embedding_matrix[index] = embedding_vector\n",
    "        \n"
   ]
  },
  {
   "cell_type": "code",
   "execution_count": 31,
   "metadata": {},
   "outputs": [
    {
     "data": {
      "text/plain": [
       "array([-0.1683   , -0.0019777,  0.58425  ,  0.049124 , -0.71453  ,\n",
       "        0.54004  , -0.97538  ,  0.5354   ,  0.33698  , -0.53466  ,\n",
       "       -0.034012 , -0.2097   ,  0.12526  , -0.1041   , -0.2868   ,\n",
       "       -0.32599  , -0.16661  ,  0.28927  , -1.233    ,  0.82418  ,\n",
       "       -0.39825  , -0.22972  , -0.59276  , -0.53729  , -0.18147  ,\n",
       "        0.12286  , -0.15221  , -0.83222  ,  0.89938  , -0.11236  ,\n",
       "        0.032309 ,  0.66448  ,  0.1633   ,  0.15404  , -0.10801  ,\n",
       "        0.83764  , -0.060524 , -0.3577   ,  0.61084  , -0.44643  ,\n",
       "       -0.49839  ,  0.10557  ,  0.056381 , -1.0175   , -0.72203  ,\n",
       "       -0.13838  , -0.44938  , -0.33304  , -0.26042  , -0.96384  ,\n",
       "        0.29383  ,  0.2488   ,  0.22366  ,  0.42337  , -0.43409  ,\n",
       "       -1.2643   ,  0.12757  , -0.068352 ,  1.5724   ,  0.086132 ,\n",
       "       -0.038491 ,  0.43654  , -0.16079  , -0.27936  ,  0.90421  ,\n",
       "        0.077429 ,  0.16837  ,  1.256    , -0.29884  , -0.14675  ,\n",
       "        0.0060162,  0.0045875, -0.26939  , -0.94483  ,  0.17848  ,\n",
       "        0.50872  , -0.17975  , -0.23488  , -0.50451  , -0.19439  ,\n",
       "        0.37311  , -0.48815  , -0.40347  , -0.60225  , -1.3193   ,\n",
       "       -0.4209   ,  0.25107  ,  0.46103  , -0.12668  , -0.62664  ,\n",
       "        0.26327  , -0.19838  ,  0.19264  , -0.90973  , -0.2319   ,\n",
       "        0.12517  ,  0.15614  ,  0.21466  ,  0.091399 ,  0.26541  ],\n",
       "      dtype=float32)"
      ]
     },
     "execution_count": 31,
     "metadata": {},
     "output_type": "execute_result"
    }
   ],
   "source": [
    "embeddings_dictionary['ask']"
   ]
  },
  {
   "cell_type": "code",
   "execution_count": 32,
   "metadata": {},
   "outputs": [
    {
     "data": {
      "text/plain": [
       "array([-0.1683    , -0.0019777 ,  0.58424997,  0.049124  , -0.71452999,\n",
       "        0.54004002, -0.97538   ,  0.53539997,  0.33697999, -0.53465998,\n",
       "       -0.034012  , -0.2097    ,  0.12526   , -0.1041    , -0.2868    ,\n",
       "       -0.32598999, -0.16661   ,  0.28927001, -1.23300004,  0.82418001,\n",
       "       -0.39825001, -0.22972   , -0.59276003, -0.53728998, -0.18147001,\n",
       "        0.12286   , -0.15221   , -0.83222002,  0.89938003, -0.11236   ,\n",
       "        0.032309  ,  0.66447997,  0.16329999,  0.15403999, -0.10801   ,\n",
       "        0.83763999, -0.060524  , -0.35769999,  0.61084002, -0.44643   ,\n",
       "       -0.49838999,  0.10557   ,  0.056381  , -1.01750004, -0.72202998,\n",
       "       -0.13838001, -0.44938001, -0.33304   , -0.26041999, -0.96384001,\n",
       "        0.29383001,  0.24879999,  0.22366001,  0.42337   , -0.43408999,\n",
       "       -1.26429999,  0.12757   , -0.068352  ,  1.57239997,  0.086132  ,\n",
       "       -0.038491  ,  0.43654001, -0.16079   , -0.27936   ,  0.90420997,\n",
       "        0.077429  ,  0.16836999,  1.25600004, -0.29883999, -0.14675   ,\n",
       "        0.0060162 ,  0.0045875 , -0.26938999, -0.94483   ,  0.17848   ,\n",
       "        0.50871998, -0.17975   , -0.23488   , -0.50450999, -0.19439   ,\n",
       "        0.37311   , -0.48815   , -0.40347001, -0.60224998, -1.31930006,\n",
       "       -0.42089999,  0.25106999,  0.46103001, -0.12668   , -0.62664002,\n",
       "        0.26326999, -0.19837999,  0.19264001, -0.90973002, -0.23190001,\n",
       "        0.12517001,  0.15614   ,  0.21466   ,  0.091399  ,  0.26541001])"
      ]
     },
     "execution_count": 32,
     "metadata": {},
     "output_type": "execute_result"
    }
   ],
   "source": [
    "embedding_matrix[214]"
   ]
  },
  {
   "cell_type": "markdown",
   "metadata": {},
   "source": [
    "### Creating the model"
   ]
  },
  {
   "cell_type": "code",
   "execution_count": 33,
   "metadata": {},
   "outputs": [],
   "source": [
    "embedding_layer = Embedding(num_words, EMBEDDING_SIZE, weights=[embedding_matrix], input_length=max_input_len)"
   ]
  },
  {
   "cell_type": "code",
   "execution_count": 34,
   "metadata": {},
   "outputs": [],
   "source": [
    "decoder_targets_one_hot = np.zeros((len(input_sentences),\n",
    "                                    max_out_len,\n",
    "                                    num_words_output),\n",
    "                                    dtype='float32')"
   ]
  },
  {
   "cell_type": "code",
   "execution_count": 35,
   "metadata": {},
   "outputs": [
    {
     "data": {
      "text/plain": [
       "(20000, 10, 7423)"
      ]
     },
     "execution_count": 35,
     "metadata": {},
     "output_type": "execute_result"
    }
   ],
   "source": [
    "decoder_targets_one_hot.shape"
   ]
  },
  {
   "cell_type": "markdown",
   "metadata": {},
   "source": [
    "<p>the final layer of the model will be a dense layer, therefore we need the outputs in the form of one-hot encoded vectors, since we will be using softmax activation function at the dense layer."
   ]
  },
  {
   "cell_type": "code",
   "execution_count": 36,
   "metadata": {},
   "outputs": [],
   "source": [
    "for i, d in enumerate(decoder_output_sequences):\n",
    "    for t, word in enumerate(d):\n",
    "        decoder_targets_one_hot[i, t, word] = 1"
   ]
  },
  {
   "cell_type": "markdown",
   "metadata": {},
   "source": [
    "### Define the encoder"
   ]
  },
  {
   "cell_type": "code",
   "execution_count": 37,
   "metadata": {},
   "outputs": [],
   "source": [
    "encoder_inputs_placeholder = Input(shape=(max_input_len,))\n",
    "x = embedding_layer(encoder_inputs_placeholder)\n",
    "encoder = LSTM(LSTM_NODES, return_state=True)\n",
    "\n",
    "encoder_outputs, h, c = encoder(x)\n",
    "encoder_states = [h, c]"
   ]
  },
  {
   "cell_type": "markdown",
   "metadata": {},
   "source": [
    "### Define decoder"
   ]
  },
  {
   "cell_type": "code",
   "execution_count": 38,
   "metadata": {},
   "outputs": [],
   "source": [
    "decoder_inputs_placeholder = Input(shape=(max_out_len,))\n",
    "\n",
    "decoder_embedding = Embedding(num_words_output, LSTM_NODES)\n",
    "decoder_inputs_x = decoder_embedding(decoder_inputs_placeholder)\n",
    "\n",
    "decoder_lstm = LSTM(LSTM_NODES, return_sequences=True, return_state=True)\n",
    "decoder_outputs, _, _ = decoder_lstm(decoder_inputs_x, initial_state=encoder_states)"
   ]
  },
  {
   "cell_type": "markdown",
   "metadata": {},
   "source": [
    "<p>output from the decoder LSTM is passed through a dense layer to predict decoder outputs"
   ]
  },
  {
   "cell_type": "code",
   "execution_count": 39,
   "metadata": {},
   "outputs": [],
   "source": [
    "decoder_dense = Dense(num_words_output, activation='softmax')\n",
    "decoder_outputs = decoder_dense(decoder_outputs)"
   ]
  },
  {
   "cell_type": "markdown",
   "metadata": {},
   "source": [
    "### Compile the model"
   ]
  },
  {
   "cell_type": "code",
   "execution_count": 40,
   "metadata": {},
   "outputs": [],
   "source": [
    "model = Model([encoder_inputs_placeholder,\n",
    "               decoder_inputs_placeholder],\n",
    "               decoder_outputs)\n",
    "model.compile(optimizer='rmsprop',\n",
    "              loss='categorical_crossentropy',\n",
    "              metrics=['accuracy'])"
   ]
  },
  {
   "cell_type": "markdown",
   "metadata": {},
   "source": [
    "### Plot the model"
   ]
  },
  {
   "cell_type": "code",
   "execution_count": 41,
   "metadata": {},
   "outputs": [
    {
     "data": {
      "image/png": "[encoded data removed]",
      "text/plain": [
       "<IPython.core.display.Image object>"
      ]
     },
     "execution_count": 41,
     "metadata": {},
     "output_type": "execute_result"
    }
   ],
   "source": [
    "from tensorflow.keras.utils import plot_model\n",
    "plot_model(model, to_file='model_plot4a.png', show_shapes=True, show_layer_names=True)"
   ]
  },
  {
   "cell_type": "code",
   "execution_count": 42,
   "metadata": {},
   "outputs": [
    {
     "name": "stdout",
     "output_type": "stream",
     "text": [
      "Train on 18000 samples, validate on 2000 samples\n",
      "Epoch 1/20\n",
      "18000/18000 [==============================] - 145s 8ms/sample - loss: 2.5869 - accuracy: 0.6366 - val_loss: 2.8740 - val_accuracy: 0.6055\n",
      "Epoch 2/20\n",
      "18000/18000 [==============================] - 159s 9ms/sample - loss: 1.9684 - accuracy: 0.7018 - val_loss: 2.5297 - val_accuracy: 0.6378\n",
      "Epoch 3/20\n",
      "18000/18000 [==============================] - 141s 8ms/sample - loss: 1.6716 - accuracy: 0.7384 - val_loss: 2.3114 - val_accuracy: 0.6615\n",
      "Epoch 4/20\n",
      "18000/18000 [==============================] - 153s 8ms/sample - loss: 1.4656 - accuracy: 0.7628 - val_loss: 2.1919 - val_accuracy: 0.6762\n",
      "Epoch 5/20\n",
      "18000/18000 [==============================] - 4266s 237ms/sample - loss: 1.3090 - accuracy: 0.7841 - val_loss: 2.0896 - val_accuracy: 0.6896\n",
      "Epoch 6/20\n",
      "18000/18000 [==============================] - 149s 8ms/sample - loss: 1.1819 - accuracy: 0.8021 - val_loss: 2.0307 - val_accuracy: 0.6980\n",
      "Epoch 7/20\n",
      "18000/18000 [==============================] - 146s 8ms/sample - loss: 1.0823 - accuracy: 0.8166 - val_loss: 1.9697 - val_accuracy: 0.7041\n",
      "Epoch 8/20\n",
      "18000/18000 [==============================] - 145s 8ms/sample - loss: 0.9989 - accuracy: 0.8287 - val_loss: 1.9539 - val_accuracy: 0.7076\n",
      "Epoch 9/20\n",
      "18000/18000 [==============================] - 157s 9ms/sample - loss: 0.9314 - accuracy: 0.8393 - val_loss: 1.9401 - val_accuracy: 0.7124\n",
      "Epoch 10/20\n",
      "18000/18000 [==============================] - 153s 9ms/sample - loss: 0.8730 - accuracy: 0.8483 - val_loss: 1.9048 - val_accuracy: 0.7146\n",
      "Epoch 11/20\n",
      "18000/18000 [==============================] - 163s 9ms/sample - loss: 0.8259 - accuracy: 0.8565 - val_loss: 1.8892 - val_accuracy: 0.7207\n",
      "Epoch 12/20\n",
      "18000/18000 [==============================] - 171s 9ms/sample - loss: 0.7876 - accuracy: 0.8632 - val_loss: 1.9038 - val_accuracy: 0.7201\n",
      "Epoch 13/20\n",
      "18000/18000 [==============================] - 166s 9ms/sample - loss: 0.7542 - accuracy: 0.8688 - val_loss: 1.9052 - val_accuracy: 0.7236\n",
      "Epoch 14/20\n",
      "18000/18000 [==============================] - 159s 9ms/sample - loss: 0.7258 - accuracy: 0.8735 - val_loss: 1.9111 - val_accuracy: 0.7233\n",
      "Epoch 15/20\n",
      "18000/18000 [==============================] - 146s 8ms/sample - loss: 0.6990 - accuracy: 0.8780 - val_loss: 1.9120 - val_accuracy: 0.7259\n",
      "Epoch 16/20\n",
      "18000/18000 [==============================] - 145s 8ms/sample - loss: 0.6758 - accuracy: 0.8815 - val_loss: 1.9218 - val_accuracy: 0.7265\n",
      "Epoch 17/20\n",
      "18000/18000 [==============================] - 144s 8ms/sample - loss: 0.6572 - accuracy: 0.8846 - val_loss: 1.9323 - val_accuracy: 0.7262\n",
      "Epoch 18/20\n",
      "18000/18000 [==============================] - 152s 8ms/sample - loss: 0.6408 - accuracy: 0.8872 - val_loss: 1.9360 - val_accuracy: 0.7268\n",
      "Epoch 19/20\n",
      "18000/18000 [==============================] - 159s 9ms/sample - loss: 0.6260 - accuracy: 0.8895 - val_loss: 1.9319 - val_accuracy: 0.7268\n",
      "Epoch 20/20\n",
      "18000/18000 [==============================] - 144s 8ms/sample - loss: 0.6108 - accuracy: 0.8923 - val_loss: 1.9337 - val_accuracy: 0.7264\n"
     ]
    }
   ],
   "source": [
    "r = model.fit([encoder_input_sequences, decoder_input_sequences],\n",
    "              decoder_targets_one_hot,\n",
    "              batch_size=BATCH_SIZE,\n",
    "              epochs=EPOCHS,\n",
    "              validation_split=0.1,)"
   ]
  },
  {
   "cell_type": "markdown",
   "metadata": {},
   "source": [
    "### Fine tuning"
   ]
  },
  {
   "cell_type": "code",
   "execution_count": 43,
   "metadata": {},
   "outputs": [],
   "source": [
    "encoder_model = Model(encoder_inputs_placeholder, encoder_states)\n",
    "\n",
    "decoder_state_input_h = Input(shape=(LSTM_NODES,))\n",
    "decoder_state_input_c = Input(shape=(LSTM_NODES,))\n",
    "decoder_states_inputs = [decoder_state_input_h, decoder_state_input_c]\n",
    "\n",
    "# At each time step, there will be only a single word in the decoder input\n",
    "decoder_inputs_single = Input(shape=(1,))\n",
    "decoder_inputs_single_x = decoder_embedding(decoder_inputs_single)\n",
    "\n",
    "# We need to create the placeholder for decoder outputs\n",
    "decoder_outputs, h, c = decoder_lstm(decoder_inputs_single_x, initial_state=decoder_states_inputs)\n",
    "\n",
    "# To make predictions, the decoder output is passed through the dense layer\n",
    "decoder_states = [h, c]\n",
    "decoder_outputs = decoder_dense(decoder_outputs)\n",
    "\n",
    "# Define the updated decoder model\n",
    "decoder_model = Model([decoder_inputs_single] + decoder_states_inputs,\n",
    "                      [decoder_outputs] + decoder_states)"
   ]
  },
  {
   "cell_type": "code",
   "execution_count": 44,
   "metadata": {},
   "outputs": [
    {
     "data": {
      "image/png": "[encoded data removed]",
      "text/plain": [
       "<IPython.core.display.Image object>"
      ]
     },
     "execution_count": 44,
     "metadata": {},
     "output_type": "execute_result"
    }
   ],
   "source": [
    "from tensorflow.keras.utils import plot_model\n",
    "plot_model(decoder_model, to_file='model_plot_dec.png', show_shapes=True, show_layer_names=True)"
   ]
  },
  {
   "cell_type": "markdown",
   "metadata": {},
   "source": [
    "### Making predictions"
   ]
  },
  {
   "cell_type": "code",
   "execution_count": 45,
   "metadata": {},
   "outputs": [],
   "source": [
    "idx2word_input = {v:k for k, v in input_word_index.items()}\n",
    "idx2word_target = {v:k for k, v in output_word_index.items()}"
   ]
  },
  {
   "cell_type": "markdown",
   "metadata": {},
   "source": [
    "<p>we will create a method, i.e. translate_sentence(). The method will accept an input-padded sequence English sentence (in the integer form) and will return the translated Hindi sentence"
   ]
  },
  {
   "cell_type": "code",
   "execution_count": 46,
   "metadata": {},
   "outputs": [],
   "source": [
    "def translate_sentence(input_seq):\n",
    "    states_value = encoder_model.predict(input_seq)\n",
    "    target_seq = np.zeros((1, 1))\n",
    "    target_seq[0, 0] = output_word_index['<sos>']\n",
    "    eos = output_word_index['<eos>']\n",
    "    output_sentence = []\n",
    "\n",
    "    for _ in range(max_out_len):\n",
    "        output_tokens, h, c = decoder_model.predict([target_seq] + states_value)\n",
    "        idx = np.argmax(output_tokens[0, 0, :])\n",
    "\n",
    "        if eos == idx:\n",
    "            break\n",
    "\n",
    "        word = ''\n",
    "\n",
    "        if idx > 0:\n",
    "            word = idx2word_target[idx]\n",
    "            output_sentence.append(word)\n",
    "\n",
    "        target_seq[0, 0] = idx\n",
    "        states_value = [h, c]\n",
    "\n",
    "    return ' '.join(output_sentence)"
   ]
  },
  {
   "cell_type": "code",
   "execution_count": 52,
   "metadata": {},
   "outputs": [
    {
     "name": "stdout",
     "output_type": "stream",
     "text": [
      "-\n",
      "Input: Tell me the story.\n",
      "Response: मला गोष्ट सांगा.\n"
     ]
    }
   ],
   "source": [
    "i = np.random.choice(len(input_sentences))\n",
    "input_seq = encoder_input_sequences[i:i+1]\n",
    "translation = translate_sentence(input_seq)\n",
    "print('-')\n",
    "print('Input:', input_sentences[i])\n",
    "print('Response:', translation)"
   ]
  },
  {
   "cell_type": "code",
   "execution_count": null,
   "metadata": {},
   "outputs": [],
   "source": []
  },
  {
   "cell_type": "code",
   "execution_count": null,
   "metadata": {},
   "outputs": [],
   "source": []
  }
 ],
 "metadata": {
  "kernelspec": {
   "display_name": "Python 3",
   "language": "python",
   "name": "python3"
  },
  "language_info": {
   "codemirror_mode": {
    "name": "ipython",
    "version": 3
   },
   "file_extension": ".py",
   "mimetype": "text/x-python",
   "name": "python",
   "nbconvert_exporter": "python",
   "pygments_lexer": "ipython3",
   "version": "3.7.3"
  }
 },
 "nbformat": 4,
 "nbformat_minor": 2
}
